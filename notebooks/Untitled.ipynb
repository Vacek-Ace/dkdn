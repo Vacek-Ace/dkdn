{
 "cells": [
  {
   "cell_type": "code",
   "execution_count": 25,
   "id": "26162ad9-3e32-4c0f-8cc0-f2b46bd50542",
   "metadata": {},
   "outputs": [],
   "source": [
    "import pandas as pd\n",
    "from src.model.dkdn import DkDN\n",
    "import matplotlib.pyplot as plt\n",
    "import seaborn as sns\n",
    "from sklearn.model_selection import train_test_split\n",
    "from sklearn.preprocessing import StandardScaler\n",
    "\n",
    "from sklearn.neighbors import KNeighborsClassifier\n",
    "from sklearn.svm import SVC\n",
    "from sklearn.ensemble import RandomForestClassifier, GradientBoostingClassifier"
   ]
  },
  {
   "cell_type": "code",
   "execution_count": 15,
   "id": "e245d386-a000-4431-9de0-479c0b595328",
   "metadata": {},
   "outputs": [],
   "source": [
    "data = pd.read_parquet('../data/w1a.parquet')\n",
    "\n",
    "# Preprocessing\n",
    "scaler = StandardScaler()\n",
    "X = scaler.fit_transform(data.drop(columns=['y']))\n",
    "y = data.y.values\n",
    "\n",
    "y[y == -1] = 0\n",
    "y = y.astype(int)\n",
    "\n",
    "X_train, X_test, y_train, y_test = train_test_split(X, y, test_size=0.20, stratify=y, random_state=42)"
   ]
  },
  {
   "cell_type": "code",
   "execution_count": 16,
   "id": "54d394da-d42a-4555-9244-d4787698e142",
   "metadata": {},
   "outputs": [],
   "source": [
    "dkdn_complexity = DkDN(k=3, n_jobs = -1)"
   ]
  },
  {
   "cell_type": "code",
   "execution_count": 17,
   "id": "25dc3c3f-49bf-48a7-9944-8142379e5084",
   "metadata": {},
   "outputs": [],
   "source": [
    "dkdn_complexity.fit(X_train, y_train)"
   ]
  },
  {
   "cell_type": "code",
   "execution_count": 18,
   "id": "9ea49aa7-496e-46d6-a790-cc7ecf795246",
   "metadata": {},
   "outputs": [],
   "source": [
    "complexity = dkdn_complexity.complexity"
   ]
  },
  {
   "cell_type": "code",
   "execution_count": 23,
   "id": "0dc7b9f8-a1db-4eef-b522-4ad4db953157",
   "metadata": {},
   "outputs": [
    {
     "data": {
      "image/png": "[encoded data removed]",
      "text/plain": [
       "<Figure size 1080x576 with 1 Axes>"
      ]
     },
     "metadata": {
      "needs_background": "light"
     },
     "output_type": "display_data"
    }
   ],
   "source": [
    "plt.figure(figsize=(15,8))\n",
    "sns.histplot(x=complexity, hue=y_train.astype(int), kde=True, multiple='dodge', stat='proportion');"
   ]
  },
  {
   "cell_type": "code",
   "execution_count": 26,
   "id": "feed5e48-e890-4236-a567-adc314aa62b1",
   "metadata": {},
   "outputs": [],
   "source": [
    "methods = {'SVC': SVC, \n",
    "           'KNeighborsClassifier': KNeighborsClassifier, \n",
    "           'RandomForestClassifier': RandomForestClassifier, \n",
    "           'GradientBoostingClassifier': GradientBoostingClassifier}"
   ]
  },
  {
   "cell_type": "code",
   "execution_count": 33,
   "id": "154d1b62-0003-42d6-9fb2-479f7957a2ab",
   "metadata": {},
   "outputs": [
    {
     "name": "stdout",
     "output_type": "stream",
     "text": [
      "<class 'sklearn.svm._classes.SVC'>\n",
      "<class 'sklearn.neighbors._classification.KNeighborsClassifier'>\n",
      "<class 'sklearn.ensemble._forest.RandomForestClassifier'>\n",
      "<class 'sklearn.ensemble._gb.GradientBoostingClassifier'>\n"
     ]
    }
   ],
   "source": [
    "for method in methods:\n",
    "    print(methods[method])"
   ]
  }
 ],
 "metadata": {
  "kernelspec": {
   "display_name": "Python [conda env:dkdn] *",
   "language": "python",
   "name": "conda-env-dkdn-py"
  },
  "language_info": {
   "codemirror_mode": {
    "name": "ipython",
    "version": 3
   },
   "file_extension": ".py",
   "mimetype": "text/x-python",
   "name": "python",
   "nbconvert_exporter": "python",
   "pygments_lexer": "ipython3",
   "version": "3.9.12"
  }
 },
 "nbformat": 4,
 "nbformat_minor": 5
}
