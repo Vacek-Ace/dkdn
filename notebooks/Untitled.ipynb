{
 "cells": [
  {
   "cell_type": "code",
   "execution_count": 1,
   "id": "26789bd4-6ac5-48ff-96ad-8851961c89e1",
   "metadata": {
    "tags": []
   },
   "outputs": [],
   "source": [
    "%load_ext autoreload\n",
    "%autoreload 2"
   ]
  },
  {
   "cell_type": "code",
   "execution_count": 2,
   "id": "4684af02-840d-4488-8ab0-9b244b4a6449",
   "metadata": {},
   "outputs": [
    {
     "name": "stderr",
     "output_type": "stream",
     "text": [
      "Intel(R) Extension for Scikit-learn* enabled (https://github.com/intel/scikit-learn-intelex)\n"
     ]
    }
   ],
   "source": [
    "import os\n",
    "import pandas as pd\n",
    "import warnings\n",
    "warnings.filterwarnings('ignore')\n",
    "\n",
    "from sklearn.metrics import matthews_corrcoef, make_scorer\n",
    "from sklearn.preprocessing import StandardScaler\n",
    "\n",
    "from src.model.instance_hardness import *\n",
    "from src.utils import *\n",
    "from src.model.dkdn import *"
   ]
  },
  {
   "cell_type": "code",
   "execution_count": 14,
   "id": "1fbf8dd2-2e4c-4fec-9273-54dcb637cd18",
   "metadata": {},
   "outputs": [
    {
     "name": "stdout",
     "output_type": "stream",
     "text": [
      "Experiment: appendicitis\n",
      "\n",
      "1\n",
      "complexity_kdn 0.18867924528301888\n",
      "complexity_dynamic_kdn 0.18867924528301888\n",
      "complexity_dynamic_kdn_full_zone 0.05471698113207547 \n",
      "\n",
      "2\n",
      "complexity_kdn 0.18396226415094338\n",
      "complexity_dynamic_kdn 0.18924528301886795\n",
      "complexity_dynamic_kdn_full_zone 0.10320754716981133 \n",
      "\n",
      "3\n",
      "complexity_kdn 0.18867924528301888\n",
      "complexity_dynamic_kdn 0.20867924528301884\n",
      "complexity_dynamic_kdn_full_zone 0.1350943396226415 \n",
      "\n",
      "4\n",
      "complexity_kdn 0.19339622641509435\n",
      "complexity_dynamic_kdn 0.20632075471698114\n",
      "complexity_dynamic_kdn_full_zone 0.1419811320754717 \n",
      "\n",
      "5\n",
      "complexity_kdn 0.19811320754716982\n",
      "complexity_dynamic_kdn 0.2036792452830189\n",
      "complexity_dynamic_kdn_full_zone 0.14962264150943397 \n",
      "\n",
      "6\n",
      "complexity_kdn 0.20754716981132076\n",
      "complexity_dynamic_kdn 0.20641509433962263\n",
      "complexity_dynamic_kdn_full_zone 0.15386792452830186 \n",
      "\n",
      "7\n",
      "complexity_kdn 0.2088948787061994\n",
      "complexity_dynamic_kdn 0.2080188679245283\n",
      "complexity_dynamic_kdn_full_zone 0.16047169811320752 \n",
      "\n",
      "8\n",
      "complexity_kdn 0.20518867924528303\n",
      "complexity_dynamic_kdn 0.21113207547169813\n",
      "complexity_dynamic_kdn_full_zone 0.16603773584905662 \n",
      "\n",
      "9\n",
      "complexity_kdn 0.20754716981132076\n",
      "complexity_dynamic_kdn 0.20566037735849058\n",
      "complexity_dynamic_kdn_full_zone 0.1658490566037736 \n",
      "\n",
      "10\n",
      "complexity_kdn 0.20849056603773586\n",
      "complexity_dynamic_kdn 0.2079245283018868\n",
      "complexity_dynamic_kdn_full_zone 0.1689622641509434 \n",
      "\n",
      "11\n",
      "complexity_kdn 0.21526586620926239\n",
      "complexity_dynamic_kdn 0.20773584905660378\n",
      "complexity_dynamic_kdn_full_zone 0.16962264150943393 \n",
      "\n"
     ]
    }
   ],
   "source": [
    "for experiment in ['appendicitis']:\n",
    "\n",
    "    print(f'Experiment: {experiment}\\n')\n",
    "\n",
    "#     results_folder = 'results/errors'\n",
    "\n",
    "#     os.makedirs(results_folder, exist_ok=True)\n",
    "\n",
    "    data = pd.read_parquet(f'../data/{experiment}.parquet')\n",
    "\n",
    "    # Preprocessing\n",
    "    scaler = StandardScaler()\n",
    "    X = scaler.fit_transform(data.drop(columns=['y']))\n",
    "    y = data.y.values\n",
    "\n",
    "    y[y == -1] = 0\n",
    "    y = y.astype(int)\n",
    "    rng_seed = 1234\n",
    "\n",
    "\n",
    "    exp_info = {experiment:{}}\n",
    "    for k in range(1, 12):\n",
    "        print(k)\n",
    "        complexity_kdn, _ = kdn_score(X, y, k)\n",
    "        global_complexity_kdn = np.mean(complexity_kdn)\n",
    "        class0_complexity_kdn = np.mean(complexity_kdn[y < 1])\n",
    "        class1_complexity_kdn = np.mean(complexity_kdn[y > 0])\n",
    "        print(f'complexity_kdn {global_complexity_kdn}')\n",
    "        \n",
    "        dynamic_kdn = DkDN(k=k)\n",
    "        dynamic_kdn.fit(X, y)\n",
    "        complexity_dynamic_kdn = dynamic_kdn.complexity\n",
    "        global_complexity_dynamic_kdn = np.mean(complexity_dynamic_kdn)\n",
    "        class0_complexity_dynamic_kdn = np.mean(complexity_dynamic_kdn[y < 1])\n",
    "        class1_complexity_dynamic_kdn = np.mean(complexity_dynamic_kdn[y > 0])\n",
    "        print(f'complexity_dynamic_kdn {global_complexity_dynamic_kdn}')\n",
    "        \n",
    "        dynamic_kdn_full_zone = DkDN(k=k)\n",
    "        dynamic_kdn_full_zone.fit(X, y, exclude_center=False)\n",
    "        complexity_dynamic_kdn_full_zone = dynamic_kdn_full_zone.complexity\n",
    "        global_complexity_dynamic_kdn_full_zone = np.mean(complexity_dynamic_kdn_full_zone)\n",
    "        class0_complexity_dynamic_kdn_full_zone = np.mean(complexity_dynamic_kdn_full_zone[y < 1])\n",
    "        class1_complexity_dynamic_kdn_full_zone = np.mean(complexity_dynamic_kdn_full_zone[y > 0])\n",
    "        print(f'complexity_dynamic_kdn_full_zone {global_complexity_dynamic_kdn_full_zone} \\n')\n",
    "        \n",
    "        k_info = {'kdn': {'global': global_complexity_kdn,\n",
    "                          'class 0': class0_complexity_kdn,\n",
    "                          'class 1': class1_complexity_kdn\n",
    "                         },\n",
    "                  'dynamic_kdn': {'global': global_complexity_dynamic_kdn,\n",
    "                          'class 0': class0_complexity_dynamic_kdn,\n",
    "                          'class 1': class1_complexity_dynamic_kdn\n",
    "                         },\n",
    "                  'dynamic_kdn_full_zone': {'global': global_complexity_dynamic_kdn_full_zone,\n",
    "                          'class 0': class0_complexity_dynamic_kdn_full_zone,\n",
    "                          'class 1': class1_complexity_dynamic_kdn_full_zone\n",
    "                         }\n",
    "                 }\n",
    "        \n",
    "        exp_info[experiment][k] = k_info\n"
   ]
  }
 ],
 "metadata": {
  "kernelspec": {
   "display_name": "Python [conda env:dkdn] *",
   "language": "python",
   "name": "conda-env-dkdn-py"
  },
  "language_info": {
   "codemirror_mode": {
    "name": "ipython",
    "version": 3
   },
   "file_extension": ".py",
   "mimetype": "text/x-python",
   "name": "python",
   "nbconvert_exporter": "python",
   "pygments_lexer": "ipython3",
   "version": "3.9.12"
  }
 },
 "nbformat": 4,
 "nbformat_minor": 5
}
