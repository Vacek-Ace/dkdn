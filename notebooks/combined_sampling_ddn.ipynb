{
 "cells": [
  {
   "cell_type": "code",
   "execution_count": 12,
   "id": "4346ad6d-fb90-4c38-ba54-7d90ebd35971",
   "metadata": {
    "tags": []
   },
   "outputs": [
    {
     "name": "stdout",
     "output_type": "stream",
     "text": [
      "The autoreload extension is already loaded. To reload it, use:\n",
      "  %reload_ext autoreload\n"
     ]
    }
   ],
   "source": [
    "%load_ext autoreload\n",
    "%autoreload 2"
   ]
  },
  {
   "cell_type": "code",
   "execution_count": 13,
   "id": "325ea792-a303-4582-a7be-971b792d99cc",
   "metadata": {
    "tags": []
   },
   "outputs": [],
   "source": [
    "import os\n",
    "import json\n",
    "import numpy as np\n",
    "import pandas as pd\n",
    "import matplotlib.pyplot as plt\n",
    "import seaborn as sns\n",
    "import warnings\n",
    "warnings.filterwarnings('ignore')"
   ]
  },
  {
   "cell_type": "code",
   "execution_count": 14,
   "id": "e0aed9a5-bd48-4c4c-b0dc-7296660b7867",
   "metadata": {},
   "outputs": [],
   "source": [
    "path = '../results/sampling_searching_ddn'\n",
    "path_no = '../results/sampling_no_searching_ddn'\n",
    "exps = sorted([exp[:-5] for exp in os.listdir(path)])"
   ]
  },
  {
   "cell_type": "code",
   "execution_count": 15,
   "id": "6259dbf3-6d00-4e68-b8ed-a602317b80b3",
   "metadata": {},
   "outputs": [],
   "source": [
    "summary = pd.DataFrame(columns = ['dataset', 'model', 'sample', 'threshold', 'test score global', 'best test score','performance gap'])\n",
    "df_best_score = pd.DataFrame(columns = ['dataset', 'model', 'best score'])\n",
    "i = 0\n",
    "for exp in exps:\n",
    "    \n",
    "    with open(f'{path}/{exp}.json', 'r') as fin:\n",
    "        exp_summary = json.load(fin)\n",
    "    with open(f'{path_no}/{exp}.json', 'r') as fin:\n",
    "        exp_summary_no = json.load(fin)\n",
    "    with open(f'../results/instance_selection/{exp}.json', 'r') as fin:\n",
    "        best_score = json.load(fin)\n",
    "        \n",
    "    for model in ['SVC', 'KNeighborsClassifier', 'RandomForestClassifier', 'GradientBoostingClassifier']:\n",
    "        summary.loc[i, 'model'] = model\n",
    "        summary.loc[i, 'dataset'] = exp\n",
    "        \n",
    "        if model == 'GradientBoostingClassifier':\n",
    "            \n",
    "            summary.loc[i, 'best test score'] = exp_summary_no[model]['test_score']\n",
    "            summary.loc[i, 'threshold'] = exp_summary_no[model]['threshold']\n",
    "            summary.loc[i, 'sample'] = exp_summary_no[model]['sample_proportion']\n",
    "            \n",
    "        else:\n",
    "            \n",
    "            best_arg = np.argmax(np.array([exp_summary_no[model]['best_score'], exp_summary[model]['best_score']]))\n",
    "            summary.loc[i, 'best test score'] = [exp_summary_no[model]['test_score'], exp_summary[model]['test_score']][best_arg]\n",
    "            summary.loc[i, 'threshold'] = [exp_summary_no[model]['threshold'], exp_summary[model]['threshold']][best_arg]\n",
    "            summary.loc[i, 'sample'] = [exp_summary_no[model]['sample_proportion'], exp_summary[model]['sample_proportion']][best_arg]\n",
    "        \n",
    "        if abs(best_score[model]['cv_score'][0]-1) < 10e-4:\n",
    "            summary.loc[i, 'best test score'] = best_score[model]['test_score']\n",
    "            summary.loc[i, 'threshold'] = 1\n",
    "            summary.loc[i, 'sample'] = 1\n",
    "            \n",
    "        summary.loc[i, 'test score global'] = best_score[model]['test_score']\n",
    "        summary.loc[i, 'complexity class difference'] = abs(exp_summary[exp]['info']['complexity']['class 0'][0] - exp_summary[exp]['info']['complexity']['class 1'][0])\n",
    "        i += 1\n",
    "summary.loc[:, 'performance gap'] = summary['test score global']-summary['best test score']"
   ]
  },
  {
   "cell_type": "code",
   "execution_count": 16,
   "id": "7f1e81ad-0990-4105-9704-a63f32b15c8b",
   "metadata": {},
   "outputs": [
    {
     "data": {
      "text/html": [
       "<div>\n",
       "<style scoped>\n",
       "    .dataframe tbody tr th:only-of-type {\n",
       "        vertical-align: middle;\n",
       "    }\n",
       "\n",
       "    .dataframe tbody tr th {\n",
       "        vertical-align: top;\n",
       "    }\n",
       "\n",
       "    .dataframe thead th {\n",
       "        text-align: right;\n",
       "    }\n",
       "</style>\n",
       "<table border=\"1\" class=\"dataframe\">\n",
       "  <thead>\n",
       "    <tr style=\"text-align: right;\">\n",
       "      <th></th>\n",
       "      <th>dataset</th>\n",
       "      <th>model</th>\n",
       "      <th>sample</th>\n",
       "      <th>threshold</th>\n",
       "      <th>test score global</th>\n",
       "      <th>best test score</th>\n",
       "      <th>performance gap</th>\n",
       "      <th>complexity class difference</th>\n",
       "    </tr>\n",
       "  </thead>\n",
       "  <tbody>\n",
       "    <tr>\n",
       "      <th>0</th>\n",
       "      <td>a9a</td>\n",
       "      <td>SVC</td>\n",
       "      <td>0.77</td>\n",
       "      <td>0.4</td>\n",
       "      <td>0.785729</td>\n",
       "      <td>0.795881</td>\n",
       "      <td>-0.010152</td>\n",
       "      <td>0.285986</td>\n",
       "    </tr>\n",
       "    <tr>\n",
       "      <th>1</th>\n",
       "      <td>a9a</td>\n",
       "      <td>KNeighborsClassifier</td>\n",
       "      <td>0.73</td>\n",
       "      <td>0.35</td>\n",
       "      <td>0.764211</td>\n",
       "      <td>0.769157</td>\n",
       "      <td>-0.004946</td>\n",
       "      <td>0.285986</td>\n",
       "    </tr>\n",
       "    <tr>\n",
       "      <th>2</th>\n",
       "      <td>a9a</td>\n",
       "      <td>RandomForestClassifier</td>\n",
       "      <td>0.73</td>\n",
       "      <td>0.35</td>\n",
       "      <td>0.765829</td>\n",
       "      <td>0.7806</td>\n",
       "      <td>-0.014772</td>\n",
       "      <td>0.285986</td>\n",
       "    </tr>\n",
       "    <tr>\n",
       "      <th>3</th>\n",
       "      <td>a9a</td>\n",
       "      <td>GradientBoostingClassifier</td>\n",
       "      <td>0.85</td>\n",
       "      <td>0.5</td>\n",
       "      <td>0.788514</td>\n",
       "      <td>0.79489</td>\n",
       "      <td>-0.006376</td>\n",
       "      <td>0.285986</td>\n",
       "    </tr>\n",
       "    <tr>\n",
       "      <th>4</th>\n",
       "      <td>appendicitis</td>\n",
       "      <td>SVC</td>\n",
       "      <td>0.82</td>\n",
       "      <td>0.25</td>\n",
       "      <td>0.5</td>\n",
       "      <td>0.794003</td>\n",
       "      <td>-0.294003</td>\n",
       "      <td>0.329701</td>\n",
       "    </tr>\n",
       "    <tr>\n",
       "      <th>...</th>\n",
       "      <td>...</td>\n",
       "      <td>...</td>\n",
       "      <td>...</td>\n",
       "      <td>...</td>\n",
       "      <td>...</td>\n",
       "      <td>...</td>\n",
       "      <td>...</td>\n",
       "      <td>...</td>\n",
       "    </tr>\n",
       "    <tr>\n",
       "      <th>143</th>\n",
       "      <td>w7a</td>\n",
       "      <td>GradientBoostingClassifier</td>\n",
       "      <td>0.7</td>\n",
       "      <td>0.75</td>\n",
       "      <td>0.871733</td>\n",
       "      <td>0.871259</td>\n",
       "      <td>0.000473</td>\n",
       "      <td>0.274497</td>\n",
       "    </tr>\n",
       "    <tr>\n",
       "      <th>144</th>\n",
       "      <td>w8a</td>\n",
       "      <td>SVC</td>\n",
       "      <td>0.63</td>\n",
       "      <td>0.9</td>\n",
       "      <td>0.907425</td>\n",
       "      <td>0.907102</td>\n",
       "      <td>0.000323</td>\n",
       "      <td>0.265404</td>\n",
       "    </tr>\n",
       "    <tr>\n",
       "      <th>145</th>\n",
       "      <td>w8a</td>\n",
       "      <td>KNeighborsClassifier</td>\n",
       "      <td>0.63</td>\n",
       "      <td>0.85</td>\n",
       "      <td>0.885566</td>\n",
       "      <td>0.873941</td>\n",
       "      <td>0.011625</td>\n",
       "      <td>0.265404</td>\n",
       "    </tr>\n",
       "    <tr>\n",
       "      <th>146</th>\n",
       "      <td>w8a</td>\n",
       "      <td>RandomForestClassifier</td>\n",
       "      <td>0.62</td>\n",
       "      <td>0.5</td>\n",
       "      <td>0.909964</td>\n",
       "      <td>0.903203</td>\n",
       "      <td>0.006761</td>\n",
       "      <td>0.265404</td>\n",
       "    </tr>\n",
       "    <tr>\n",
       "      <th>147</th>\n",
       "      <td>w8a</td>\n",
       "      <td>GradientBoostingClassifier</td>\n",
       "      <td>0.62</td>\n",
       "      <td>0.5</td>\n",
       "      <td>0.910368</td>\n",
       "      <td>0.915593</td>\n",
       "      <td>-0.005225</td>\n",
       "      <td>0.265404</td>\n",
       "    </tr>\n",
       "  </tbody>\n",
       "</table>\n",
       "<p>148 rows × 8 columns</p>\n",
       "</div>"
      ],
      "text/plain": [
       "          dataset                       model sample threshold  \\\n",
       "0             a9a                         SVC   0.77       0.4   \n",
       "1             a9a        KNeighborsClassifier   0.73      0.35   \n",
       "2             a9a      RandomForestClassifier   0.73      0.35   \n",
       "3             a9a  GradientBoostingClassifier   0.85       0.5   \n",
       "4    appendicitis                         SVC   0.82      0.25   \n",
       "..            ...                         ...    ...       ...   \n",
       "143           w7a  GradientBoostingClassifier    0.7      0.75   \n",
       "144           w8a                         SVC   0.63       0.9   \n",
       "145           w8a        KNeighborsClassifier   0.63      0.85   \n",
       "146           w8a      RandomForestClassifier   0.62       0.5   \n",
       "147           w8a  GradientBoostingClassifier   0.62       0.5   \n",
       "\n",
       "    test score global best test score performance gap  \\\n",
       "0            0.785729        0.795881       -0.010152   \n",
       "1            0.764211        0.769157       -0.004946   \n",
       "2            0.765829          0.7806       -0.014772   \n",
       "3            0.788514         0.79489       -0.006376   \n",
       "4                 0.5        0.794003       -0.294003   \n",
       "..                ...             ...             ...   \n",
       "143          0.871733        0.871259        0.000473   \n",
       "144          0.907425        0.907102        0.000323   \n",
       "145          0.885566        0.873941        0.011625   \n",
       "146          0.909964        0.903203        0.006761   \n",
       "147          0.910368        0.915593       -0.005225   \n",
       "\n",
       "     complexity class difference  \n",
       "0                       0.285986  \n",
       "1                       0.285986  \n",
       "2                       0.285986  \n",
       "3                       0.285986  \n",
       "4                       0.329701  \n",
       "..                           ...  \n",
       "143                     0.274497  \n",
       "144                     0.265404  \n",
       "145                     0.265404  \n",
       "146                     0.265404  \n",
       "147                     0.265404  \n",
       "\n",
       "[148 rows x 8 columns]"
      ]
     },
     "execution_count": 16,
     "metadata": {},
     "output_type": "execute_result"
    }
   ],
   "source": [
    "summary"
   ]
  },
  {
   "cell_type": "code",
   "execution_count": 17,
   "id": "f3de88f6-625b-4044-8e46-00db2247b511",
   "metadata": {},
   "outputs": [
    {
     "data": {
      "image/png": "[encoded data removed]",
      "text/plain": [
       "<Figure size 720x720 with 1 Axes>"
      ]
     },
     "metadata": {},
     "output_type": "display_data"
    }
   ],
   "source": [
    "summary['performance gap'].hist(bins=10);"
   ]
  },
  {
   "cell_type": "code",
   "execution_count": 21,
   "id": "7525fb56-64b5-463e-8a96-2792e43b5245",
   "metadata": {},
   "outputs": [
    {
     "data": {
      "text/plain": [
       "count    148.00\n",
       "mean      -0.02\n",
       "std        0.05\n",
       "min       -0.29\n",
       "0%        -0.29\n",
       "10%       -0.08\n",
       "20%       -0.04\n",
       "30%       -0.02\n",
       "40%       -0.01\n",
       "50%        0.00\n",
       "60%        0.00\n",
       "70%        0.01\n",
       "80%        0.01\n",
       "90%        0.02\n",
       "max        0.09\n",
       "Name: performance gap, dtype: float64"
      ]
     },
     "execution_count": 21,
     "metadata": {},
     "output_type": "execute_result"
    }
   ],
   "source": [
    "summary['performance gap'].astype(float).describe(percentiles=[i*0.1 for i in range(10)]).round(2)"
   ]
  },
  {
   "cell_type": "code",
   "execution_count": 19,
   "id": "5e5b7cad-da39-47d7-a60d-2aa37266c9a8",
   "metadata": {},
   "outputs": [
    {
     "data": {
      "image/png": "[encoded data removed]",
      "text/plain": [
       "<Figure size 720x720 with 1 Axes>"
      ]
     },
     "metadata": {},
     "output_type": "display_data"
    }
   ],
   "source": [
    "summary['sample'].hist(bins=10);"
   ]
  },
  {
   "cell_type": "code",
   "execution_count": 22,
   "id": "4943a91e-aeff-4965-9421-4e79e34789bf",
   "metadata": {},
   "outputs": [
    {
     "data": {
      "text/plain": [
       "count    148.00\n",
       "mean       0.81\n",
       "std        0.21\n",
       "min        0.10\n",
       "10%        0.57\n",
       "20%        0.70\n",
       "30%        0.75\n",
       "40%        0.80\n",
       "50%        0.86\n",
       "60%        0.92\n",
       "70%        0.97\n",
       "80%        0.99\n",
       "90%        1.00\n",
       "max        1.00\n",
       "Name: sample, dtype: float64"
      ]
     },
     "execution_count": 22,
     "metadata": {},
     "output_type": "execute_result"
    }
   ],
   "source": [
    "summary['sample'].astype(float).describe(percentiles=[i*0.1 for i in range(1, 10)]).round(2)"
   ]
  },
  {
   "cell_type": "code",
   "execution_count": 20,
   "id": "9864f0e3-ad67-44fb-a9e4-6aa174aca68e",
   "metadata": {},
   "outputs": [
    {
     "data": {
      "image/png": "[encoded data removed]",
      "text/plain": [
       "<Figure size 720x720 with 1 Axes>"
      ]
     },
     "metadata": {},
     "output_type": "display_data"
    }
   ],
   "source": [
    "summary['threshold'].hist(bins=10);"
   ]
  },
  {
   "cell_type": "code",
   "execution_count": 23,
   "id": "5b273b73-1294-4faa-9125-5bb997064ec0",
   "metadata": {},
   "outputs": [
    {
     "data": {
      "text/plain": [
       "count    148.00\n",
       "mean       0.61\n",
       "std        0.27\n",
       "min        0.10\n",
       "10%        0.25\n",
       "20%        0.30\n",
       "30%        0.41\n",
       "40%        0.49\n",
       "50%        0.65\n",
       "60%        0.75\n",
       "70%        0.85\n",
       "80%        0.90\n",
       "90%        0.95\n",
       "max        1.00\n",
       "Name: threshold, dtype: float64"
      ]
     },
     "execution_count": 23,
     "metadata": {},
     "output_type": "execute_result"
    }
   ],
   "source": [
    "summary['threshold'].astype(float).describe(percentiles=[i*0.1 for i in range(1, 10)]).round(2)"
   ]
  },
  {
   "cell_type": "code",
   "execution_count": 10,
   "id": "48104389-ae04-4efe-98fa-0602d11de5d8",
   "metadata": {},
   "outputs": [
    {
     "data": {
      "image/png": "[encoded data removed]",
      "text/plain": [
       "<Figure size 720x720 with 1 Axes>"
      ]
     },
     "metadata": {},
     "output_type": "display_data"
    }
   ],
   "source": [
    "sns.set(rc={'figure.figsize':(10,10)})\n",
    "sns.set_theme(style=\"ticks\", palette=\"pastel\")\n",
    "sns.boxplot(data=summary, x=\"model\", y='performance gap')\n",
    "plt.axhline(0, ls='--', c='green')\n",
    "plt.axhline(0.01, ls='--', c='yellow')\n",
    "# plt.axhline(0.01, ls='--', c='orange')\n",
    "plt.axhline(0.02, ls='--', c='red')\n",
    "plt.show()"
   ]
  },
  {
   "cell_type": "code",
   "execution_count": 11,
   "id": "52a614f3-8fa8-4f79-b14c-f4ebf4b2502d",
   "metadata": {},
   "outputs": [
    {
     "name": "stdout",
     "output_type": "stream",
     "text": [
      "SVC\n",
      "count    37.00\n",
      "mean     -0.02\n",
      "std       0.06\n",
      "min      -0.29\n",
      "0%       -0.29\n",
      "10%      -0.09\n",
      "20%      -0.04\n",
      "30%      -0.02\n",
      "40%      -0.01\n",
      "50%       0.00\n",
      "60%       0.00\n",
      "70%       0.01\n",
      "80%       0.02\n",
      "90%       0.03\n",
      "max       0.09\n",
      "Name: performance gap, dtype: float64 \n",
      "\n",
      "KNeighborsClassifier\n",
      "count    37.00\n",
      "mean     -0.03\n",
      "std       0.07\n",
      "min      -0.23\n",
      "0%       -0.23\n",
      "10%      -0.12\n",
      "20%      -0.06\n",
      "30%      -0.03\n",
      "40%      -0.01\n",
      "50%      -0.00\n",
      "60%       0.00\n",
      "70%       0.00\n",
      "80%       0.01\n",
      "90%       0.02\n",
      "max       0.09\n",
      "Name: performance gap, dtype: float64 \n",
      "\n",
      "RandomForestClassifier\n",
      "count    37.00\n",
      "mean     -0.01\n",
      "std       0.04\n",
      "min      -0.15\n",
      "0%       -0.15\n",
      "10%      -0.06\n",
      "20%      -0.03\n",
      "30%      -0.02\n",
      "40%      -0.00\n",
      "50%       0.00\n",
      "60%       0.00\n",
      "70%       0.01\n",
      "80%       0.01\n",
      "90%       0.02\n",
      "max       0.05\n",
      "Name: performance gap, dtype: float64 \n",
      "\n",
      "GradientBoostingClassifier\n",
      "count    37.00\n",
      "mean     -0.01\n",
      "std       0.04\n",
      "min      -0.15\n",
      "0%       -0.15\n",
      "10%      -0.03\n",
      "20%      -0.02\n",
      "30%      -0.01\n",
      "40%      -0.00\n",
      "50%       0.00\n",
      "60%       0.00\n",
      "70%       0.01\n",
      "80%       0.01\n",
      "90%       0.02\n",
      "max       0.05\n",
      "Name: performance gap, dtype: float64 \n",
      "\n"
     ]
    }
   ],
   "source": [
    "for model in ['SVC', 'KNeighborsClassifier', 'RandomForestClassifier', 'GradientBoostingClassifier']:\n",
    "    print(model)\n",
    "    print(summary[summary.model == model]['performance gap'].astype(float).describe(percentiles=[i*0.1 for i in range(10)]).round(2), '\\n')"
   ]
  }
 ],
 "metadata": {
  "kernelspec": {
   "display_name": "Python 3.9.12 ('dkdn')",
   "language": "python",
   "name": "python3"
  },
  "language_info": {
   "codemirror_mode": {
    "name": "ipython",
    "version": 3
   },
   "file_extension": ".py",
   "mimetype": "text/x-python",
   "name": "python",
   "nbconvert_exporter": "python",
   "pygments_lexer": "ipython3",
   "version": "3.9.12"
  },
  "vscode": {
   "interpreter": {
    "hash": "f13982a677ddd6e0a27b2fe6a638374c39866982243140229903785bd2c31cd2"
   }
  }
 },
 "nbformat": 4,
 "nbformat_minor": 5
}
