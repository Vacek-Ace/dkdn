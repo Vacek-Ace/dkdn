{
 "cells": [
  {
   "cell_type": "code",
   "execution_count": 1,
   "id": "c200fa2b-38b3-4f29-9723-9556169d8c62",
   "metadata": {
    "tags": []
   },
   "outputs": [],
   "source": [
    "%load_ext autoreload\n",
    "%autoreload 2"
   ]
  },
  {
   "cell_type": "code",
   "execution_count": 2,
   "id": "a77ca48a-53cc-4c00-af29-2bbfce8dc9d1",
   "metadata": {},
   "outputs": [],
   "source": [
    "import json\n",
    "import os\n",
    "import pandas as pd\n",
    "import numpy as np\n",
    "import seaborn as sns\n",
    "import matplotlib.pyplot as plt\n",
    "\n",
    "from src.visualization.plots import *"
   ]
  },
  {
   "cell_type": "code",
   "execution_count": 3,
   "id": "2c3f6723-e1a9-43e6-bec2-1c11235ce681",
   "metadata": {},
   "outputs": [
    {
     "ename": "IndentationError",
     "evalue": "unexpected indent (1967621440.py, line 11)",
     "output_type": "error",
     "traceback": [
      "\u001b[0;36m  Input \u001b[0;32mIn [3]\u001b[0;36m\u001b[0m\n\u001b[0;31m    i += 9\u001b[0m\n\u001b[0m    ^\u001b[0m\n\u001b[0;31mIndentationError\u001b[0m\u001b[0;31m:\u001b[0m unexpected indent\n"
     ]
    }
   ],
   "source": [
    "exps = sorted([exp[:-5] for exp in os.listdir('../results/sampling')])\n",
    "\n",
    "summary = pd.DataFrame(columns = ['relative_error', 'sampling_method','dataset','sampling', 'model'], index = range(len(exps) * exp_by_df))\n",
    "for exp in exps:\n",
    "    with open(f'../results/sampling/{exp}.json', 'r') as fin:\n",
    "        exp_summary = json.load(fin)\n",
    "        "
   ]
  },
  {
   "cell_type": "code",
   "execution_count": 4,
   "id": "c6570957-6506-4c9f-9c07-d1c187139eea",
   "metadata": {},
   "outputs": [],
   "source": [
    "exp = 'a9a'\n",
    "with open(f'../results/sampling/{exp}.json', 'r') as fin:\n",
    "    exp_summary = json.load(fin)"
   ]
  },
  {
   "cell_type": "code",
   "execution_count": 5,
   "id": "3b39ec91-666d-46a7-9cd1-c59c70ae2b20",
   "metadata": {},
   "outputs": [
    {
     "data": {
      "text/plain": [
       "{'complexity': {'global': [0.21213912776412777, 0.05867129914004914],\n",
       "  'class 0': [0.14686219974715553, 0.03900379266750949],\n",
       "  'class 1': [0.4179180615335565, 0.12067113024071417]},\n",
       " 'data': {'n': 26048, 'n0': 19775, 'n1': 6273}}"
      ]
     },
     "execution_count": 5,
     "metadata": {},
     "output_type": "execute_result"
    }
   ],
   "source": [
    "kdn = exp_summary[exp]['info']['global'][0]\n",
    "dkdn = exp_summary[exp]['info']['global'][1]\n",
    "kdn_l = min(exp_summary[exp]['info']['class 0'][0], exp_summary[exp]['info']['class 1'][0])\n",
    "kdn_h = max(exp_summary[exp]['info']['class 0'][0], exp_summary[exp]['info']['class 1'][0])\n",
    "dkdn_l = min(exp_summary[exp]['info']['class 0'][1], exp_summary[exp]['info']['class 1'][1])\n",
    "dkdn_h = max(exp_summary[exp]['info']['class 0'][1], exp_summary[exp]['info']['class 1'][1])"
   ]
  }
 ],
 "metadata": {
  "kernelspec": {
   "display_name": "Python [conda env:ss] *",
   "language": "python",
   "name": "conda-env-ss-py"
  },
  "language_info": {
   "codemirror_mode": {
    "name": "ipython",
    "version": 3
   },
   "file_extension": ".py",
   "mimetype": "text/x-python",
   "name": "python",
   "nbconvert_exporter": "python",
   "pygments_lexer": "ipython3",
   "version": "3.9.12"
  }
 },
 "nbformat": 4,
 "nbformat_minor": 5
}
