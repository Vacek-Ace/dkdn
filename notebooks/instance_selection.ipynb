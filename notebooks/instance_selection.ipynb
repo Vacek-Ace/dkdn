{
 "cells": [
  {
   "cell_type": "code",
   "execution_count": 1,
   "id": "45e8885b-6b1e-4baf-8466-f4b3257f358c",
   "metadata": {
    "tags": []
   },
   "outputs": [],
   "source": [
    "%load_ext autoreload\n",
    "%autoreload 2"
   ]
  },
  {
   "cell_type": "code",
   "execution_count": 2,
   "id": "c3a7f234-c072-4abf-8159-f9b3d96aae42",
   "metadata": {},
   "outputs": [],
   "source": [
    "import json\n",
    "import os\n",
    "import pandas as pd\n",
    "import numpy as np\n",
    "import seaborn as sns\n",
    "import matplotlib.pyplot as plt\n",
    "from src.utils import summary_relative_error, statistical_summary"
   ]
  },
  {
   "cell_type": "code",
   "execution_count": 3,
   "id": "1d0ba211-8582-480a-a762-c5f745c94eee",
   "metadata": {},
   "outputs": [],
   "source": [
    "df = summary_relative_error()"
   ]
  },
  {
   "cell_type": "code",
   "execution_count": 4,
   "id": "afa42ae7-5267-45f4-b5c3-09d95bf61f02",
   "metadata": {},
   "outputs": [],
   "source": [
    "pepe = df[df['sampling method'] == 'test_score_dynamic_kdn']['performance gap'].astype(float).describe()"
   ]
  },
  {
   "cell_type": "code",
   "execution_count": 5,
   "id": "114373da-eff0-48b1-87e2-99c7e47d4378",
   "metadata": {},
   "outputs": [
    {
     "data": {
      "text/html": [
       "<div>\n",
       "<style scoped>\n",
       "    .dataframe tbody tr th:only-of-type {\n",
       "        vertical-align: middle;\n",
       "    }\n",
       "\n",
       "    .dataframe tbody tr th {\n",
       "        vertical-align: top;\n",
       "    }\n",
       "\n",
       "    .dataframe thead th {\n",
       "        text-align: right;\n",
       "    }\n",
       "</style>\n",
       "<table border=\"1\" class=\"dataframe\">\n",
       "  <thead>\n",
       "    <tr style=\"text-align: right;\">\n",
       "      <th></th>\n",
       "      <th>mean</th>\n",
       "      <th>std</th>\n",
       "      <th>min</th>\n",
       "      <th>25%</th>\n",
       "      <th>50%</th>\n",
       "      <th>75%</th>\n",
       "      <th>max</th>\n",
       "    </tr>\n",
       "  </thead>\n",
       "  <tbody>\n",
       "    <tr>\n",
       "      <th>test_score_kdn</th>\n",
       "      <td>0.004348</td>\n",
       "      <td>0.058408</td>\n",
       "      <td>-0.151957</td>\n",
       "      <td>-0.018322</td>\n",
       "      <td>0.0</td>\n",
       "      <td>0.01877</td>\n",
       "      <td>0.224222</td>\n",
       "    </tr>\n",
       "    <tr>\n",
       "      <th>test_score_dynamic_kdn</th>\n",
       "      <td>-0.008496</td>\n",
       "      <td>0.049842</td>\n",
       "      <td>-0.371072</td>\n",
       "      <td>-0.01901</td>\n",
       "      <td>-0.001551</td>\n",
       "      <td>0.003704</td>\n",
       "      <td>0.146775</td>\n",
       "    </tr>\n",
       "    <tr>\n",
       "      <th>test_score_dynamic_kdn_full</th>\n",
       "      <td>0.004151</td>\n",
       "      <td>0.054837</td>\n",
       "      <td>-0.295845</td>\n",
       "      <td>-0.017968</td>\n",
       "      <td>0.0</td>\n",
       "      <td>0.02912</td>\n",
       "      <td>0.153465</td>\n",
       "    </tr>\n",
       "  </tbody>\n",
       "</table>\n",
       "</div>"
      ],
      "text/plain": [
       "                                 mean       std       min       25%       50%  \\\n",
       "test_score_kdn               0.004348  0.058408 -0.151957 -0.018322       0.0   \n",
       "test_score_dynamic_kdn      -0.008496  0.049842 -0.371072  -0.01901 -0.001551   \n",
       "test_score_dynamic_kdn_full  0.004151  0.054837 -0.295845 -0.017968       0.0   \n",
       "\n",
       "                                  75%       max  \n",
       "test_score_kdn                0.01877  0.224222  \n",
       "test_score_dynamic_kdn       0.003704  0.146775  \n",
       "test_score_dynamic_kdn_full   0.02912  0.153465  "
      ]
     },
     "execution_count": 5,
     "metadata": {},
     "output_type": "execute_result"
    }
   ],
   "source": [
    "statistical_summary(df, 'performance gap')"
   ]
  },
  {
   "cell_type": "code",
   "execution_count": 6,
   "id": "4b116cf1-4f74-487d-ba62-0a492643b244",
   "metadata": {},
   "outputs": [
    {
     "data": {
      "text/html": [
       "<div>\n",
       "<style scoped>\n",
       "    .dataframe tbody tr th:only-of-type {\n",
       "        vertical-align: middle;\n",
       "    }\n",
       "\n",
       "    .dataframe tbody tr th {\n",
       "        vertical-align: top;\n",
       "    }\n",
       "\n",
       "    .dataframe thead th {\n",
       "        text-align: right;\n",
       "    }\n",
       "</style>\n",
       "<table border=\"1\" class=\"dataframe\">\n",
       "  <thead>\n",
       "    <tr style=\"text-align: right;\">\n",
       "      <th></th>\n",
       "      <th>mean</th>\n",
       "      <th>std</th>\n",
       "      <th>min</th>\n",
       "      <th>25%</th>\n",
       "      <th>50%</th>\n",
       "      <th>75%</th>\n",
       "      <th>max</th>\n",
       "    </tr>\n",
       "  </thead>\n",
       "  <tbody>\n",
       "    <tr>\n",
       "      <th>test_score_kdn</th>\n",
       "      <td>0.53331</td>\n",
       "      <td>0.347244</td>\n",
       "      <td>0.0</td>\n",
       "      <td>0.165</td>\n",
       "      <td>0.565</td>\n",
       "      <td>0.87</td>\n",
       "      <td>0.99</td>\n",
       "    </tr>\n",
       "    <tr>\n",
       "      <th>test_score_dynamic_kdn</th>\n",
       "      <td>0.674712</td>\n",
       "      <td>0.299436</td>\n",
       "      <td>0.02</td>\n",
       "      <td>0.5325</td>\n",
       "      <td>0.72</td>\n",
       "      <td>0.94</td>\n",
       "      <td>0.99</td>\n",
       "    </tr>\n",
       "    <tr>\n",
       "      <th>test_score_dynamic_kdn_full</th>\n",
       "      <td>0.494628</td>\n",
       "      <td>0.304634</td>\n",
       "      <td>0.0</td>\n",
       "      <td>0.27</td>\n",
       "      <td>0.45</td>\n",
       "      <td>0.72</td>\n",
       "      <td>1.0</td>\n",
       "    </tr>\n",
       "  </tbody>\n",
       "</table>\n",
       "</div>"
      ],
      "text/plain": [
       "                                 mean       std   min     25%    50%   75%  \\\n",
       "test_score_kdn                0.53331  0.347244   0.0   0.165  0.565  0.87   \n",
       "test_score_dynamic_kdn       0.674712  0.299436  0.02  0.5325   0.72  0.94   \n",
       "test_score_dynamic_kdn_full  0.494628  0.304634   0.0    0.27   0.45  0.72   \n",
       "\n",
       "                              max  \n",
       "test_score_kdn               0.99  \n",
       "test_score_dynamic_kdn       0.99  \n",
       "test_score_dynamic_kdn_full   1.0  "
      ]
     },
     "execution_count": 6,
     "metadata": {},
     "output_type": "execute_result"
    }
   ],
   "source": [
    "statistical_summary(df, 'sample')"
   ]
  }
 ],
 "metadata": {
  "kernelspec": {
   "display_name": "Python [conda env:dkdn] *",
   "language": "python",
   "name": "conda-env-dkdn-py"
  },
  "language_info": {
   "codemirror_mode": {
    "name": "ipython",
    "version": 3
   },
   "file_extension": ".py",
   "mimetype": "text/x-python",
   "name": "python",
   "nbconvert_exporter": "python",
   "pygments_lexer": "ipython3",
   "version": "3.9.12"
  }
 },
 "nbformat": 4,
 "nbformat_minor": 5
}
