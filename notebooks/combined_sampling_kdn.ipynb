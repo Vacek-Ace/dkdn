{
 "cells": [
  {
   "cell_type": "code",
   "execution_count": 1,
   "id": "4346ad6d-fb90-4c38-ba54-7d90ebd35971",
   "metadata": {
    "tags": []
   },
   "outputs": [],
   "source": [
    "%load_ext autoreload\n",
    "%autoreload 2"
   ]
  },
  {
   "cell_type": "code",
   "execution_count": 2,
   "id": "325ea792-a303-4582-a7be-971b792d99cc",
   "metadata": {
    "tags": []
   },
   "outputs": [],
   "source": [
    "import os\n",
    "import json\n",
    "import numpy as np\n",
    "import pandas as pd\n",
    "import matplotlib.pyplot as plt\n",
    "import seaborn as sns\n",
    "import warnings\n",
    "warnings.filterwarnings('ignore')"
   ]
  },
  {
   "cell_type": "code",
   "execution_count": 3,
   "id": "e0aed9a5-bd48-4c4c-b0dc-7296660b7867",
   "metadata": {},
   "outputs": [],
   "source": [
    "path = '../results/sampling_searching_kdn'\n",
    "path_no = '../results/sampling_no_searching_kdn'\n",
    "exps = sorted([exp[:-5] for exp in os.listdir(path)])"
   ]
  },
  {
   "cell_type": "code",
   "execution_count": 4,
   "id": "6259dbf3-6d00-4e68-b8ed-a602317b80b3",
   "metadata": {},
   "outputs": [],
   "source": [
    "summary = pd.DataFrame(columns = ['dataset', 'model', 'sample', 'threshold', 'test score global', 'best test score','performance gap'])\n",
    "df_best_score = pd.DataFrame(columns = ['dataset', 'model', 'best score'])\n",
    "i = 0\n",
    "for exp in exps:\n",
    "    \n",
    "    with open(f'{path}/{exp}.json', 'r') as fin:\n",
    "        exp_summary = json.load(fin)\n",
    "    with open(f'{path_no}/{exp}.json', 'r') as fin:\n",
    "        exp_summary_no = json.load(fin)\n",
    "    with open(f'../results/instance_selection/{exp}.json', 'r') as fin:\n",
    "        best_score = json.load(fin)\n",
    "        \n",
    "    for model in ['SVC', 'KNeighborsClassifier', 'RandomForestClassifier', 'GradientBoostingClassifier']:\n",
    "        summary.loc[i, 'model'] = model\n",
    "        summary.loc[i, 'dataset'] = exp\n",
    "        \n",
    "        if model == 'GradientBoostingClassifier':\n",
    "            \n",
    "            summary.loc[i, 'best test score'] = exp_summary_no[model]['test_score']\n",
    "            summary.loc[i, 'threshold'] = exp_summary_no[model]['threshold']\n",
    "            summary.loc[i, 'sample'] = exp_summary_no[model]['sample_proportion']\n",
    "            \n",
    "        else:\n",
    "            \n",
    "            best_arg = np.argmax(np.array([exp_summary_no[model]['best_score'], exp_summary[model]['best_score']]))\n",
    "            summary.loc[i, 'best test score'] = [exp_summary_no[model]['test_score'], exp_summary[model]['test_score']][best_arg]\n",
    "            summary.loc[i, 'threshold'] = [exp_summary_no[model]['threshold'], exp_summary[model]['threshold']][best_arg]\n",
    "            summary.loc[i, 'sample'] = [exp_summary_no[model]['sample_proportion'], exp_summary[model]['sample_proportion']][best_arg]\n",
    "        \n",
    "        if abs(best_score[model]['cv_score'][0]-1) < 10e-4:\n",
    "            summary.loc[i, 'best test score'] = best_score[model]['test_score']\n",
    "            summary.loc[i, 'threshold'] = 1\n",
    "            summary.loc[i, 'sample'] = 1\n",
    "            \n",
    "        summary.loc[i, 'test score global'] = best_score[model]['test_score']\n",
    "        summary.loc[i, 'complexity class difference'] = abs(exp_summary[exp]['info']['complexity']['class 0'][0] - exp_summary[exp]['info']['complexity']['class 1'][0])\n",
    "        i += 1\n",
    "summary.loc[:, 'performance gap'] = summary['test score global']-summary['best test score']"
   ]
  },
  {
   "cell_type": "code",
   "execution_count": 5,
   "id": "7f1e81ad-0990-4105-9704-a63f32b15c8b",
   "metadata": {},
   "outputs": [
    {
     "data": {
      "text/html": [
       "<div>\n",
       "<style scoped>\n",
       "    .dataframe tbody tr th:only-of-type {\n",
       "        vertical-align: middle;\n",
       "    }\n",
       "\n",
       "    .dataframe tbody tr th {\n",
       "        vertical-align: top;\n",
       "    }\n",
       "\n",
       "    .dataframe thead th {\n",
       "        text-align: right;\n",
       "    }\n",
       "</style>\n",
       "<table border=\"1\" class=\"dataframe\">\n",
       "  <thead>\n",
       "    <tr style=\"text-align: right;\">\n",
       "      <th></th>\n",
       "      <th>dataset</th>\n",
       "      <th>model</th>\n",
       "      <th>sample</th>\n",
       "      <th>threshold</th>\n",
       "      <th>test score global</th>\n",
       "      <th>best test score</th>\n",
       "      <th>performance gap</th>\n",
       "      <th>complexity class difference</th>\n",
       "    </tr>\n",
       "  </thead>\n",
       "  <tbody>\n",
       "    <tr>\n",
       "      <th>0</th>\n",
       "      <td>a9a</td>\n",
       "      <td>SVC</td>\n",
       "      <td>0.75</td>\n",
       "      <td>0.4</td>\n",
       "      <td>0.785729</td>\n",
       "      <td>0.79415</td>\n",
       "      <td>-0.008421</td>\n",
       "      <td>0.271056</td>\n",
       "    </tr>\n",
       "    <tr>\n",
       "      <th>1</th>\n",
       "      <td>a9a</td>\n",
       "      <td>KNeighborsClassifier</td>\n",
       "      <td>0.75</td>\n",
       "      <td>0.4</td>\n",
       "      <td>0.764211</td>\n",
       "      <td>0.76967</td>\n",
       "      <td>-0.005459</td>\n",
       "      <td>0.271056</td>\n",
       "    </tr>\n",
       "    <tr>\n",
       "      <th>2</th>\n",
       "      <td>a9a</td>\n",
       "      <td>RandomForestClassifier</td>\n",
       "      <td>0.56</td>\n",
       "      <td>0.2</td>\n",
       "      <td>0.765829</td>\n",
       "      <td>0.779607</td>\n",
       "      <td>-0.013779</td>\n",
       "      <td>0.271056</td>\n",
       "    </tr>\n",
       "    <tr>\n",
       "      <th>3</th>\n",
       "      <td>a9a</td>\n",
       "      <td>GradientBoostingClassifier</td>\n",
       "      <td>0.75</td>\n",
       "      <td>0.4</td>\n",
       "      <td>0.788514</td>\n",
       "      <td>0.798161</td>\n",
       "      <td>-0.009647</td>\n",
       "      <td>0.271056</td>\n",
       "    </tr>\n",
       "    <tr>\n",
       "      <th>4</th>\n",
       "      <td>appendicitis</td>\n",
       "      <td>SVC</td>\n",
       "      <td>0.92</td>\n",
       "      <td>0.8</td>\n",
       "      <td>0.5</td>\n",
       "      <td>0.83541</td>\n",
       "      <td>-0.33541</td>\n",
       "      <td>0.324320</td>\n",
       "    </tr>\n",
       "    <tr>\n",
       "      <th>...</th>\n",
       "      <td>...</td>\n",
       "      <td>...</td>\n",
       "      <td>...</td>\n",
       "      <td>...</td>\n",
       "      <td>...</td>\n",
       "      <td>...</td>\n",
       "      <td>...</td>\n",
       "      <td>...</td>\n",
       "    </tr>\n",
       "    <tr>\n",
       "      <th>143</th>\n",
       "      <td>w7a</td>\n",
       "      <td>GradientBoostingClassifier</td>\n",
       "      <td>0.11</td>\n",
       "      <td>0.4</td>\n",
       "      <td>0.871733</td>\n",
       "      <td>0.840214</td>\n",
       "      <td>0.031519</td>\n",
       "      <td>0.306783</td>\n",
       "    </tr>\n",
       "    <tr>\n",
       "      <th>144</th>\n",
       "      <td>w8a</td>\n",
       "      <td>SVC</td>\n",
       "      <td>0.12</td>\n",
       "      <td>0.8</td>\n",
       "      <td>0.907425</td>\n",
       "      <td>0.899939</td>\n",
       "      <td>0.007486</td>\n",
       "      <td>0.284726</td>\n",
       "    </tr>\n",
       "    <tr>\n",
       "      <th>145</th>\n",
       "      <td>w8a</td>\n",
       "      <td>KNeighborsClassifier</td>\n",
       "      <td>0.11</td>\n",
       "      <td>0.6</td>\n",
       "      <td>0.885566</td>\n",
       "      <td>0.80838</td>\n",
       "      <td>0.077186</td>\n",
       "      <td>0.284726</td>\n",
       "    </tr>\n",
       "    <tr>\n",
       "      <th>146</th>\n",
       "      <td>w8a</td>\n",
       "      <td>RandomForestClassifier</td>\n",
       "      <td>0.12</td>\n",
       "      <td>0.8</td>\n",
       "      <td>0.909964</td>\n",
       "      <td>0.876471</td>\n",
       "      <td>0.033493</td>\n",
       "      <td>0.284726</td>\n",
       "    </tr>\n",
       "    <tr>\n",
       "      <th>147</th>\n",
       "      <td>w8a</td>\n",
       "      <td>GradientBoostingClassifier</td>\n",
       "      <td>0.11</td>\n",
       "      <td>0.6</td>\n",
       "      <td>0.910368</td>\n",
       "      <td>0.89573</td>\n",
       "      <td>0.014638</td>\n",
       "      <td>0.284726</td>\n",
       "    </tr>\n",
       "  </tbody>\n",
       "</table>\n",
       "<p>148 rows × 8 columns</p>\n",
       "</div>"
      ],
      "text/plain": [
       "          dataset                       model sample threshold  \\\n",
       "0             a9a                         SVC   0.75       0.4   \n",
       "1             a9a        KNeighborsClassifier   0.75       0.4   \n",
       "2             a9a      RandomForestClassifier   0.56       0.2   \n",
       "3             a9a  GradientBoostingClassifier   0.75       0.4   \n",
       "4    appendicitis                         SVC   0.92       0.8   \n",
       "..            ...                         ...    ...       ...   \n",
       "143           w7a  GradientBoostingClassifier   0.11       0.4   \n",
       "144           w8a                         SVC   0.12       0.8   \n",
       "145           w8a        KNeighborsClassifier   0.11       0.6   \n",
       "146           w8a      RandomForestClassifier   0.12       0.8   \n",
       "147           w8a  GradientBoostingClassifier   0.11       0.6   \n",
       "\n",
       "    test score global best test score performance gap  \\\n",
       "0            0.785729         0.79415       -0.008421   \n",
       "1            0.764211         0.76967       -0.005459   \n",
       "2            0.765829        0.779607       -0.013779   \n",
       "3            0.788514        0.798161       -0.009647   \n",
       "4                 0.5         0.83541        -0.33541   \n",
       "..                ...             ...             ...   \n",
       "143          0.871733        0.840214        0.031519   \n",
       "144          0.907425        0.899939        0.007486   \n",
       "145          0.885566         0.80838        0.077186   \n",
       "146          0.909964        0.876471        0.033493   \n",
       "147          0.910368         0.89573        0.014638   \n",
       "\n",
       "     complexity class difference  \n",
       "0                       0.271056  \n",
       "1                       0.271056  \n",
       "2                       0.271056  \n",
       "3                       0.271056  \n",
       "4                       0.324320  \n",
       "..                           ...  \n",
       "143                     0.306783  \n",
       "144                     0.284726  \n",
       "145                     0.284726  \n",
       "146                     0.284726  \n",
       "147                     0.284726  \n",
       "\n",
       "[148 rows x 8 columns]"
      ]
     },
     "execution_count": 5,
     "metadata": {},
     "output_type": "execute_result"
    }
   ],
   "source": [
    "summary"
   ]
  },
  {
   "cell_type": "code",
   "execution_count": 6,
   "id": "f3de88f6-625b-4044-8e46-00db2247b511",
   "metadata": {},
   "outputs": [
    {
     "data": {
      "image/png": "[encoded data removed]",
      "text/plain": [
       "<Figure size 432x288 with 1 Axes>"
      ]
     },
     "metadata": {
      "needs_background": "light"
     },
     "output_type": "display_data"
    }
   ],
   "source": [
    "summary['performance gap'].hist(bins=10);"
   ]
  },
  {
   "cell_type": "code",
   "execution_count": 7,
   "id": "7525fb56-64b5-463e-8a96-2792e43b5245",
   "metadata": {},
   "outputs": [
    {
     "data": {
      "text/plain": [
       "count    148.000000\n",
       "mean      -0.008161\n",
       "std        0.061782\n",
       "min       -0.335410\n",
       "0%        -0.335410\n",
       "10%       -0.077528\n",
       "20%       -0.034034\n",
       "30%       -0.013903\n",
       "40%       -0.001974\n",
       "50%        0.000000\n",
       "60%        0.001642\n",
       "70%        0.009822\n",
       "80%        0.020976\n",
       "90%        0.038311\n",
       "max        0.209609\n",
       "Name: performance gap, dtype: float64"
      ]
     },
     "execution_count": 7,
     "metadata": {},
     "output_type": "execute_result"
    }
   ],
   "source": [
    "summary['performance gap'].astype(float).describe(percentiles=[i*0.1 for i in range(10)])"
   ]
  },
  {
   "cell_type": "code",
   "execution_count": 8,
   "id": "4943a91e-aeff-4965-9421-4e79e34789bf",
   "metadata": {},
   "outputs": [
    {
     "data": {
      "text/plain": [
       "count    148.000000\n",
       "mean       0.617162\n",
       "std        0.319594\n",
       "min        0.080000\n",
       "10%        0.130000\n",
       "20%        0.170000\n",
       "30%        0.483000\n",
       "40%        0.608000\n",
       "50%        0.650000\n",
       "60%        0.780000\n",
       "70%        0.860000\n",
       "80%        0.936000\n",
       "90%        0.990000\n",
       "max        1.000000\n",
       "Name: sample, dtype: float64"
      ]
     },
     "execution_count": 8,
     "metadata": {},
     "output_type": "execute_result"
    }
   ],
   "source": [
    "summary['sample'].astype(float).describe(percentiles=[i*0.1 for i in range(1, 10)])"
   ]
  },
  {
   "cell_type": "code",
   "execution_count": 9,
   "id": "5b273b73-1294-4faa-9125-5bb997064ec0",
   "metadata": {},
   "outputs": [
    {
     "data": {
      "text/plain": [
       "count    148.000000\n",
       "mean       0.516216\n",
       "std        0.251270\n",
       "min        0.200000\n",
       "10%        0.200000\n",
       "20%        0.200000\n",
       "30%        0.400000\n",
       "40%        0.400000\n",
       "50%        0.600000\n",
       "60%        0.600000\n",
       "70%        0.600000\n",
       "80%        0.800000\n",
       "90%        0.800000\n",
       "max        1.000000\n",
       "Name: threshold, dtype: float64"
      ]
     },
     "execution_count": 9,
     "metadata": {},
     "output_type": "execute_result"
    }
   ],
   "source": [
    "summary['threshold'].astype(float).describe(percentiles=[i*0.1 for i in range(1, 10)])"
   ]
  },
  {
   "cell_type": "code",
   "execution_count": 10,
   "id": "48104389-ae04-4efe-98fa-0602d11de5d8",
   "metadata": {},
   "outputs": [
    {
     "data": {
      "image/png": "[encoded data removed]",
      "text/plain": [
       "<Figure size 720x720 with 1 Axes>"
      ]
     },
     "metadata": {},
     "output_type": "display_data"
    }
   ],
   "source": [
    "sns.set(rc={'figure.figsize':(10,10)})\n",
    "sns.set_theme(style=\"ticks\", palette=\"pastel\")\n",
    "sns.boxplot(data=summary, x=\"model\", y='performance gap')\n",
    "plt.axhline(0, ls='--', c='green')\n",
    "plt.axhline(0.01, ls='--', c='yellow')\n",
    "# plt.axhline(0.01, ls='--', c='orange')\n",
    "plt.axhline(0.02, ls='--', c='red')\n",
    "plt.show()"
   ]
  },
  {
   "cell_type": "code",
   "execution_count": 11,
   "id": "52a614f3-8fa8-4f79-b14c-f4ebf4b2502d",
   "metadata": {},
   "outputs": [
    {
     "name": "stdout",
     "output_type": "stream",
     "text": [
      "SVC\n",
      "count    37.000000\n",
      "mean     -0.019812\n",
      "std       0.073654\n",
      "min      -0.335410\n",
      "0%       -0.335410\n",
      "10%      -0.088499\n",
      "20%      -0.036268\n",
      "30%      -0.016263\n",
      "40%      -0.003365\n",
      "50%       0.000000\n",
      "60%       0.000000\n",
      "70%       0.004369\n",
      "80%       0.012589\n",
      "90%       0.028324\n",
      "max       0.083624\n",
      "Name: performance gap, dtype: float64 \n",
      "\n",
      "KNeighborsClassifier\n",
      "count    37.000000\n",
      "mean     -0.018692\n",
      "std       0.077228\n",
      "min      -0.227019\n",
      "0%       -0.227019\n",
      "10%      -0.109383\n",
      "20%      -0.046675\n",
      "30%      -0.036797\n",
      "40%      -0.013764\n",
      "50%       0.000000\n",
      "60%       0.000000\n",
      "70%       0.004418\n",
      "80%       0.011909\n",
      "90%       0.024698\n",
      "max       0.209609\n",
      "Name: performance gap, dtype: float64 \n",
      "\n",
      "RandomForestClassifier\n",
      "count    37.000000\n",
      "mean      0.002249\n",
      "std       0.040977\n",
      "min      -0.127460\n",
      "0%       -0.127460\n",
      "10%      -0.030840\n",
      "20%      -0.018964\n",
      "30%      -0.004466\n",
      "40%       0.000000\n",
      "50%       0.000000\n",
      "60%       0.002885\n",
      "70%       0.013392\n",
      "80%       0.021485\n",
      "90%       0.037777\n",
      "max       0.148165\n",
      "Name: performance gap, dtype: float64 \n",
      "\n",
      "GradientBoostingClassifier\n",
      "count    37.000000\n",
      "mean      0.003611\n",
      "std       0.044844\n",
      "min      -0.118783\n",
      "0%       -0.118783\n",
      "10%      -0.036808\n",
      "20%      -0.021635\n",
      "30%      -0.010046\n",
      "40%      -0.001081\n",
      "50%       0.001607\n",
      "60%       0.012786\n",
      "70%       0.019695\n",
      "80%       0.030372\n",
      "90%       0.044999\n",
      "max       0.150127\n",
      "Name: performance gap, dtype: float64 \n",
      "\n"
     ]
    }
   ],
   "source": [
    "for model in ['SVC', 'KNeighborsClassifier', 'RandomForestClassifier', 'GradientBoostingClassifier']:\n",
    "    print(model)\n",
    "    print(summary[summary.model == model]['performance gap'].astype(float).describe(percentiles=[i*0.1 for i in range(10)]), '\\n')"
   ]
  }
 ],
 "metadata": {
  "kernelspec": {
   "display_name": "Python [conda env:dkdn] *",
   "language": "python",
   "name": "conda-env-dkdn-py"
  },
  "language_info": {
   "codemirror_mode": {
    "name": "ipython",
    "version": 3
   },
   "file_extension": ".py",
   "mimetype": "text/x-python",
   "name": "python",
   "nbconvert_exporter": "python",
   "pygments_lexer": "ipython3",
   "version": "3.9.12"
  }
 },
 "nbformat": 4,
 "nbformat_minor": 5
}
